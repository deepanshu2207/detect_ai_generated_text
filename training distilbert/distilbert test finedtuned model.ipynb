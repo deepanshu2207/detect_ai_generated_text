{
 "cells": [
  {
   "cell_type": "code",
   "execution_count": 1,
   "id": "7bca8dc6",
   "metadata": {
    "_cell_guid": "b1076dfc-b9ad-4769-8c92-a6c4dae69d19",
    "_uuid": "8f2839f25d086af736a60e9eeb907d3b93b6e0e5",
    "execution": {
     "iopub.execute_input": "2023-11-29T08:02:04.948863Z",
     "iopub.status.busy": "2023-11-29T08:02:04.948428Z",
     "iopub.status.idle": "2023-11-29T08:02:05.391411Z",
     "shell.execute_reply": "2023-11-29T08:02:05.390252Z"
    },
    "papermill": {
     "duration": 0.45233,
     "end_time": "2023-11-29T08:02:05.394219",
     "exception": false,
     "start_time": "2023-11-29T08:02:04.941889",
     "status": "completed"
    },
    "tags": []
   },
   "outputs": [],
   "source": [
    "import numpy as np # linear algebra\n",
    "import pandas as pd # data processing, CSV file I/O (e.g. pd.read_csv)\n",
    "from tqdm import tqdm"
   ]
  },
  {
   "cell_type": "code",
   "execution_count": 2,
   "id": "5834d0bb",
   "metadata": {
    "execution": {
     "iopub.execute_input": "2023-11-29T08:02:05.406690Z",
     "iopub.status.busy": "2023-11-29T08:02:05.406179Z",
     "iopub.status.idle": "2023-11-29T08:02:28.391286Z",
     "shell.execute_reply": "2023-11-29T08:02:28.390151Z"
    },
    "papermill": {
     "duration": 22.993663,
     "end_time": "2023-11-29T08:02:28.394230",
     "exception": false,
     "start_time": "2023-11-29T08:02:05.400567",
     "status": "completed"
    },
    "tags": []
   },
   "outputs": [],
   "source": [
    "from transformers import pipeline"
   ]
  },
  {
   "cell_type": "code",
   "execution_count": 3,
   "id": "ba776005",
   "metadata": {
    "execution": {
     "iopub.execute_input": "2023-11-29T08:02:28.404963Z",
     "iopub.status.busy": "2023-11-29T08:02:28.404182Z",
     "iopub.status.idle": "2023-11-29T08:02:32.139720Z",
     "shell.execute_reply": "2023-11-29T08:02:32.138465Z"
    },
    "papermill": {
     "duration": 3.743889,
     "end_time": "2023-11-29T08:02:32.142452",
     "exception": false,
     "start_time": "2023-11-29T08:02:28.398563",
     "status": "completed"
    },
    "tags": []
   },
   "outputs": [],
   "source": [
    "finetuned_model = 'finetuned-ai-genessay-detect-distilbert_ext_train2'\n",
    "BERT_MODEL = 'distilbert_base_cased'\n",
    "pipe = pipeline(\"text-classification\", finetuned_model, tokenizer=BERT_MODEL)"
   ]
  },
  {
   "cell_type": "code",
   "execution_count": 4,
   "id": "439facc6",
   "metadata": {
    "execution": {
     "iopub.execute_input": "2023-11-29T08:02:32.159286Z",
     "iopub.status.busy": "2023-11-29T08:02:32.158299Z",
     "iopub.status.idle": "2023-11-29T08:02:32.265792Z",
     "shell.execute_reply": "2023-11-29T08:02:32.264647Z"
    },
    "papermill": {
     "duration": 0.116668,
     "end_time": "2023-11-29T08:02:32.268749",
     "exception": false,
     "start_time": "2023-11-29T08:02:32.152081",
     "status": "completed"
    },
    "tags": []
   },
   "outputs": [],
   "source": [
    "train = pd.read_csv('train_essays.csv')\n",
    "test = pd.read_csv('test_essays.csv')"
   ]
  },
  {
   "cell_type": "code",
   "execution_count": 5,
   "id": "b0716d1c",
   "metadata": {
    "execution": {
     "iopub.execute_input": "2023-11-29T08:02:32.279308Z",
     "iopub.status.busy": "2023-11-29T08:02:32.278880Z",
     "iopub.status.idle": "2023-11-29T08:03:09.017546Z",
     "shell.execute_reply": "2023-11-29T08:03:09.016249Z"
    },
    "papermill": {
     "duration": 36.747817,
     "end_time": "2023-11-29T08:03:09.020894",
     "exception": false,
     "start_time": "2023-11-29T08:02:32.273077",
     "status": "completed"
    },
    "tags": []
   },
   "outputs": [
    {
     "name": "stderr",
     "output_type": "stream",
     "text": [
      "100%|██████████| 50/50 [00:36<00:00,  1.36it/s]\n"
     ]
    }
   ],
   "source": [
    "for i in tqdm(range(50)): #train.shape[0]\n",
    "    text = train.loc[i, 'text']\n",
    "#     print(len(text))\n",
    "    cum_score = []\n",
    "    for j in range(int(len(text)/1000)+1):\n",
    "#         print(int(len(text)/1000)+1)\n",
    "        sample_text = text[j*1000:(j+1)*1000]\n",
    "        out = pipe(sample_text)[0]\n",
    "        if out['label'] == 'Not AI-generated':\n",
    "            score = 1 - out['score']\n",
    "        else:\n",
    "            score = out['score']\n",
    "        cum_score.append(score)\n",
    "\n",
    "#     if np.average(cum_score)>0.50 and any([x<0.45 for x in cum_score]):\n",
    "#         print(i, np.average(cum_score), cum_score)"
   ]
  },
  {
   "cell_type": "code",
   "execution_count": 6,
   "id": "81bf04fa",
   "metadata": {
    "execution": {
     "iopub.execute_input": "2023-11-29T08:03:09.041485Z",
     "iopub.status.busy": "2023-11-29T08:03:09.041085Z",
     "iopub.status.idle": "2023-11-29T08:03:09.140885Z",
     "shell.execute_reply": "2023-11-29T08:03:09.139709Z"
    },
    "papermill": {
     "duration": 0.113007,
     "end_time": "2023-11-29T08:03:09.143567",
     "exception": false,
     "start_time": "2023-11-29T08:03:09.030560",
     "status": "completed"
    },
    "tags": []
   },
   "outputs": [
    {
     "name": "stderr",
     "output_type": "stream",
     "text": [
      "100%|██████████| 3/3 [00:00<00:00, 34.31it/s]\n"
     ]
    }
   ],
   "source": [
    "preds_test = []\n",
    "for i in tqdm(range(test.shape[0])): #test.shape[0]\n",
    "    text = test.loc[i, 'text']\n",
    "    cum_score = []\n",
    "    for j in range(int(len(text)/1000)+1):\n",
    "        sample_text = text[j*1000:(j+1)*1000]\n",
    "        out = pipe(sample_text)[0]\n",
    "        if out['label'] == 'Human':\n",
    "            score = 1 - out['score']\n",
    "        else:\n",
    "            score = out['score']\n",
    "        cum_score.append(score)\n",
    "        \n",
    "    preds_test.append(np.average(cum_score))"
   ]
  },
  {
   "cell_type": "code",
   "execution_count": 7,
   "id": "b205561c",
   "metadata": {
    "execution": {
     "iopub.execute_input": "2023-11-29T08:03:09.166536Z",
     "iopub.status.busy": "2023-11-29T08:03:09.165269Z",
     "iopub.status.idle": "2023-11-29T08:03:09.174109Z",
     "shell.execute_reply": "2023-11-29T08:03:09.172914Z"
    },
    "papermill": {
     "duration": 0.022921,
     "end_time": "2023-11-29T08:03:09.176937",
     "exception": false,
     "start_time": "2023-11-29T08:03:09.154016",
     "status": "completed"
    },
    "tags": []
   },
   "outputs": [],
   "source": [
    "from sklearn import preprocessing\n",
    "import numpy as np\n",
    "\n",
    "x_array = np.array(preds_test)\n",
    "\n",
    "normalized_arr = preprocessing.normalize([x_array])\n",
    "norm_preds_test = normalized_arr[0]"
   ]
  },
  {
   "cell_type": "code",
   "execution_count": 8,
   "id": "9b006d01",
   "metadata": {
    "execution": {
     "iopub.execute_input": "2023-11-29T08:03:09.200191Z",
     "iopub.status.busy": "2023-11-29T08:03:09.199404Z",
     "iopub.status.idle": "2023-11-29T08:03:09.210000Z",
     "shell.execute_reply": "2023-11-29T08:03:09.208434Z"
    },
    "papermill": {
     "duration": 0.025926,
     "end_time": "2023-11-29T08:03:09.212708",
     "exception": false,
     "start_time": "2023-11-29T08:03:09.186782",
     "status": "completed"
    },
    "tags": []
   },
   "outputs": [],
   "source": [
    "pd.DataFrame({'id':test[\"id\"],'generated':norm_preds_test}).to_csv('submission.csv', index=False)"
   ]
  },
  {
   "cell_type": "code",
   "execution_count": null,
   "id": "3a7d77b3",
   "metadata": {
    "papermill": {
     "duration": 0.00964,
     "end_time": "2023-11-29T08:03:09.231972",
     "exception": false,
     "start_time": "2023-11-29T08:03:09.222332",
     "status": "completed"
    },
    "tags": []
   },
   "outputs": [],
   "source": []
  }
 ],
 "metadata": {
  "kaggle": {
   "accelerator": "none",
   "dataSources": [
    {
     "databundleVersionId": 6888007,
     "sourceId": 61542,
     "sourceType": "competition"
    },
    {
     "datasetId": 4062816,
     "sourceId": 7057930,
     "sourceType": "datasetVersion"
    },
    {
     "datasetId": 4076040,
     "sourceId": 7076500,
     "sourceType": "datasetVersion"
    }
   ],
   "dockerImageVersionId": 30587,
   "isGpuEnabled": false,
   "isInternetEnabled": false,
   "language": "python",
   "sourceType": "notebook"
  },
  "kernelspec": {
   "display_name": "Python 3",
   "language": "python",
   "name": "python3"
  },
  "language_info": {
   "codemirror_mode": {
    "name": "ipython",
    "version": 3
   },
   "file_extension": ".py",
   "mimetype": "text/x-python",
   "name": "python",
   "nbconvert_exporter": "python",
   "pygments_lexer": "ipython3",
   "version": "3.10.12"
  },
  "papermill": {
   "default_parameters": {},
   "duration": 70.540138,
   "end_time": "2023-11-29T08:03:11.919843",
   "environment_variables": {},
   "exception": null,
   "input_path": "__notebook__.ipynb",
   "output_path": "__notebook__.ipynb",
   "parameters": {},
   "start_time": "2023-11-29T08:02:01.379705",
   "version": "2.4.0"
  }
 },
 "nbformat": 4,
 "nbformat_minor": 5
}
